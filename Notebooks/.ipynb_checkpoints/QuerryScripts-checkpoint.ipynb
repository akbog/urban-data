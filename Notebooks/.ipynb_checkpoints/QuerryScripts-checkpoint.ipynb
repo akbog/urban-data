{
 "cells": [
  {
   "cell_type": "markdown",
   "metadata": {},
   "source": [
    "## Querrying Twitter API"
   ]
  },
  {
   "cell_type": "code",
   "execution_count": null,
   "metadata": {},
   "outputs": [],
   "source": [
    "import tweepy\n",
    "from "
   ]
  },
  {
   "cell_type": "code",
   "execution_count": null,
   "metadata": {},
   "outputs": [],
   "source": [
    "# Function to extract tweets \n",
    "def get_tweets(username): \n",
    "\n",
    "    # Authorization to consumer key and consumer secret \n",
    "    auth = tweepy.OAuthHandler(consumer_key, consumer_secret) \n",
    "\n",
    "    # Access to user's access key and access secret \n",
    "    auth.set_access_token(access_key, access_secret) \n",
    "\n",
    "    # Calling api \n",
    "    api = tweepy.API(auth) \n",
    "\n",
    "    # 200 tweets to be extracted \n",
    "    number_of_tweets=200\n",
    "    tweets = api.user_timeline(screen_name=username) \n",
    "\n",
    "    # Empty Array \n",
    "    tmp=[] \n",
    "\n",
    "    # create array of tweet information: username, \n",
    "    # tweet id, date/time, text \n",
    "    tweets_for_csv = [tweet.text for tweet in tweets] # CSV file created \n",
    "    for j in tweets_for_csv: \n",
    "\n",
    "        # Appending tweets to the empty array tmp \n",
    "        tmp.append(j) \n",
    "\n",
    "    # Printing the tweets \n",
    "    print(tmp) \n",
    "\n",
    "\n",
    "# Driver code \n",
    "if __name__ == '__main__': \n",
    "\n",
    "# Here goes the twitter handle for the user \n",
    "# whose tweets are to be extracted. \n",
    "get_tweets(\"twitter-handle\") "
   ]
  }
 ],
 "metadata": {
  "kernelspec": {
   "display_name": "venv-urban",
   "language": "python",
   "name": "venv-urban"
  },
  "language_info": {
   "codemirror_mode": {
    "name": "ipython",
    "version": 3
   },
   "file_extension": ".py",
   "mimetype": "text/x-python",
   "name": "python",
   "nbconvert_exporter": "python",
   "pygments_lexer": "ipython3",
   "version": "3.7.4"
  }
 },
 "nbformat": 4,
 "nbformat_minor": 4
}
