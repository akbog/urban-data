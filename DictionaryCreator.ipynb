{
 "cells": [
  {
   "cell_type": "markdown",
   "metadata": {},
   "source": [
    "## Testing the Duplicates Dictionary Creator\n",
    "\n",
    "#### This Notebook is testing code written to run on the Twitter data gathered on the HPC cluster."
   ]
  },
  {
   "cell_type": "code",
   "execution_count": 1,
   "metadata": {},
   "outputs": [],
   "source": [
    "###Importing Neccesary Modules\n",
    "from Modules.NewTwitterReader import GzipStreamBackedCorpusView, NewTwitterCorpusReader, NewTwitterPickledCorpusReader\n",
    "from Modules.NewTwitterPreprocessor import Preprocessor\n",
    "from Modules.NewPickleCorpusView import PickleCorpusView\n",
    "from Modules.NewTwitterCorpusLoader import NewTwitterCorpusLoader\n",
    "import re"
   ]
  },
  {
   "cell_type": "code",
   "execution_count": 2,
   "metadata": {},
   "outputs": [],
   "source": [
    "DOC_PATTERN = r'HPC_Data/streamed_[0-3][0-9]_[0-1][0-9]_[0-9][0-9][0-9][0-9]_[0-9][0-9]_[0-9][0-9]_[0-9][0-9]\\.json\\.gz$'\n",
    "CAT_PATTERN = r'.*HPC_Data.*'\n",
    "# CAT_PATTERN = r'[0-2][0-9][0-9][0-9]-[0-3][0-9]-[0-1][0-9]'\n",
    "root = r\"../Twitter-Data\"\n",
    "pre_corpus = NewTwitterCorpusReader(root = root, cat_pattern = CAT_PATTERN)"
   ]
  },
  {
   "cell_type": "code",
   "execution_count": 3,
   "metadata": {},
   "outputs": [
    {
     "name": "stdout",
     "output_type": "stream",
     "text": [
      "Initializing Dictionary\n",
      "HPC_Data/streamed_31_03_2020_10_20_53.json.gz\n",
      ".*HPC_Data.*\n",
      "HPC_Data/streamed_31_03_2020_10_22_32.json.gz\n",
      ".*HPC_Data.*\n",
      ".*HPC_Data.*\n",
      "HPC_Data/streamed_31_03_2020_10_20_53.json.gz\n",
      ".*HPC_Data.*\n",
      "HPC_Data/streamed_31_03_2020_10_22_32.json.gz\n",
      "Finished. There are 2 duplicates\n"
     ]
    }
   ],
   "source": [
    "pre_corpus.update_data_dictionary(root + \"/id_dictionary.pickle\", categories = CAT_PATTERN)"
   ]
  }
 ],
 "metadata": {
  "kernelspec": {
   "display_name": "venv-urban",
   "language": "python",
   "name": "venv-urban"
  },
  "language_info": {
   "codemirror_mode": {
    "name": "ipython",
    "version": 3
   },
   "file_extension": ".py",
   "mimetype": "text/x-python",
   "name": "python",
   "nbconvert_exporter": "python",
   "pygments_lexer": "ipython3",
   "version": "3.7.7"
  }
 },
 "nbformat": 4,
 "nbformat_minor": 4
}
