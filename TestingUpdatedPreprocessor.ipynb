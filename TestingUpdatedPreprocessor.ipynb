{
 "cells": [
  {
   "cell_type": "markdown",
   "metadata": {},
   "source": [
    "## Testing and Updating the Preprocessor"
   ]
  },
  {
   "cell_type": "code",
   "execution_count": 29,
   "metadata": {},
   "outputs": [],
   "source": [
    "from Modules.NewTwitterReader import NewTwitterCorpusReader\n",
    "from Modules.NewTwitterPreprocessor import Preprocessor\n",
    "from geopy.geocoders import Nominatim\n",
    "from postal.expand import expand_address\n",
    "from postal.parser import parse_address"
   ]
  },
  {
   "cell_type": "code",
   "execution_count": 25,
   "metadata": {},
   "outputs": [],
   "source": [
    "geolocator = Nominatim(user_agent=\"default\")\n",
    "address, (latitude, longitude) = geolocator.geocode(\"Polynésie Française\")"
   ]
  },
  {
   "cell_type": "code",
   "execution_count": 28,
   "metadata": {},
   "outputs": [
    {
     "name": "stdout",
     "output_type": "stream",
     "text": [
      "Polynésie Française, France -16.03442485 -146.0490931059517\n",
      "<class 'str'>\n"
     ]
    }
   ],
   "source": [
    "print(address, latitude, longitude)\n",
    "print(type(address))"
   ]
  },
  {
   "cell_type": "code",
   "execution_count": 34,
   "metadata": {},
   "outputs": [],
   "source": [
    "DOC_PATTERN = r'HPC_Data/streamed_[0-3][0-9]_[0-1][0-9]_[0-9][0-9][0-9][0-9]_[0-9][0-9]_[0-9][0-9]_[0-9][0-9]\\.json\\.gz$'\n",
    "CAT_PATTERN = r'.*HPC_Data.*'\n",
    "# CAT_PATTERN = r'[0-2][0-9][0-9][0-9]-[0-3][0-9]-[0-1][0-9]'\n",
    "root = r\"../Twitter-Data\"\n",
    "pre_corpus = NewTwitterCorpusReader(root = root, cat_pattern = CAT_PATTERN)"
   ]
  },
  {
   "cell_type": "code",
   "execution_count": 51,
   "metadata": {},
   "outputs": [],
   "source": [
    "gen = pre_corpus.full_text_tweets(categories = CAT_PATTERN)"
   ]
  },
  {
   "cell_type": "code",
   "execution_count": 66,
   "metadata": {},
   "outputs": [
    {
     "name": "stdout",
     "output_type": "stream",
     "text": [
      "{'limit': {'track': 1095203, 'timestamp_ms': '1585693704760'}}\n",
      "{'limit': {'track': 1095388, 'timestamp_ms': '1585693705726'}}\n",
      "{'limit': {'track': 1095614, 'timestamp_ms': '1585693706740'}}\n"
     ]
    }
   ],
   "source": [
    "# temp = next(gen)\n",
    "# user_profile_list = []\n",
    "# for i in range(200):\n",
    "#     tweet = next(gen)\n",
    "#     try:\n",
    "#         if tweet[\"user\"][\"location\"]:\n",
    "#             user_profile_list.append(tweet[\"user\"][\"location\"])\n",
    "#     except:\n",
    "#         print(tweet)"
   ]
  }
 ],
 "metadata": {
  "kernelspec": {
   "display_name": "venv-urban",
   "language": "python",
   "name": "venv-urban"
  },
  "language_info": {
   "codemirror_mode": {
    "name": "ipython",
    "version": 3
   },
   "file_extension": ".py",
   "mimetype": "text/x-python",
   "name": "python",
   "nbconvert_exporter": "python",
   "pygments_lexer": "ipython3",
   "version": "3.7.7"
  }
 },
 "nbformat": 4,
 "nbformat_minor": 4
}
